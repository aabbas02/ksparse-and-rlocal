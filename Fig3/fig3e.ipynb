{
 "cells": [
  {
   "cell_type": "markdown",
   "metadata": {},
   "source": [
    "# Code to Generate Figures"
   ]
  },
  {
   "cell_type": "markdown",
   "metadata": {},
   "source": [
    "#### This notebook contains code from the paper, \"Stochastic Expectation-Maximization for Shuffled Linear Regression\" by Abid _et al._, which appeared in the 2018 Allerton Conference."
   ]
  },
  {
   "cell_type": "code",
   "execution_count": null,
   "metadata": {},
   "outputs": [],
   "source": [
    "import sys, os;\n",
    "import numpy as np\n",
    "import matplotlib\n",
    "import matplotlib.pyplot as plt\n",
    "from sklearn.model_selection import train_test_split\n",
    "from sklearn.datasets import load_boston\n",
    "from sklearn.linear_model import LinearRegression\n",
    "from utils import *\n",
    "from algorithms import *\n",
    "from scipy.io import savemat\n",
    "\n",
    "%load_ext autoreload\n",
    "%matplotlib inline\n",
    "%autoreload 2"
   ]
  },
  {
   "cell_type": "markdown",
   "metadata": {},
   "source": [
    "# Figure 3e\n"
   ]
  },
  {
   "cell_type": "code",
   "execution_count": null,
   "metadata": {
    "scrolled": false
   },
   "outputs": [],
   "source": [
    "MC  = 3\n",
    "iters = 1\n",
    "n   = 1000\n",
    "d   = 100\n",
    "k_  = [200,250,300,350,400,500,550,600,650,700,750,800] # number of mismatches\n",
    "error_proposed = np.zeros((len(k_), MC))\n",
    "error_hard_scale = np.zeros((len(k_), MC))\n",
    "error_soft_scale = np.zeros((len(k_), MC))\n",
    "SNR = 100\n",
    "for i in range(len(k_)):\n",
    "    k = k_[i]\n",
    "    for s in range(MC):\n",
    "        x, y_, w0_ = generate_distribution(n=n, dim=d,  dist='normal', bias=False, SNR=100)\n",
    "        y    = y_\n",
    "        idx1 = np.random.permutation(n)[:k]\n",
    "        idx2 = idx1\n",
    "        idx2 = np.random.permutation(idx1) # in-place shuffle elements of idx2\n",
    "        y[idx1,0] = y_[idx2,0]\n",
    "#-------------------------------------------------------------        \n",
    "        weights = em_mcmc(x,y,steps=50,return_all_weights=True)\n",
    "        error = calc_error(w0_, weights[-1])\n",
    "        error_soft_scale[i,s] = error            \n",
    "        print(error)\n",
    "#-------------------------------------------------------------\n",
    "        weights = sls(x,y,steps=50,return_all_weights=True,n_starts=100)\n",
    "        error = calc_error(w0_, weights[-1])\n",
    "        error_hard_scale[i,s] = error        \n",
    "        print(error)\n",
    "#-------------------------------------------------------------------------\n",
    "        weights = sls_init(x,y,steps=50,r_local=0,r=0)\n",
    "        error = np.linalg.norm(weights - w0_)\n",
    "        error_proposed[i,s] = error\n",
    "        print(error)\n",
    "#-------------------------------------------------------------        \n",
    "    "
   ]
  },
  {
   "cell_type": "markdown",
   "metadata": {},
   "source": [
    "####  Save the error variables in a dictionary and export to MATLAB for plotting."
   ]
  },
  {
   "cell_type": "code",
   "execution_count": null,
   "metadata": {},
   "outputs": [],
   "source": [
    "hard = np.mean(error_hard_scale,axis = 1)\n",
    "proposed = np.mean(error_proposed,axis = 1)\n",
    "stochastic = np.mean(error_soft_scale,axis = 1)\n",
    "mdict = {\"naive_altMIn\":hard,\"proposed\":proposed,\"stochastic\":stochastic,\"k_\":k_}\n",
    "savemat(\"dataAltMin.mat\",mdict)\n",
    "print(hard)\n",
    "print(stochastic)\n",
    "print(proposed)\n"
   ]
  },
  {
   "cell_type": "code",
   "execution_count": null,
   "metadata": {},
   "outputs": [],
   "source": [
    "def get_permutation (n,num_assigned):\n",
    "    P = np.eye(n)\n",
    "    idx = np.random.permutation(n)[0:n-num_assigned]\n",
    "    P[idx,idx] = 0\n",
    "    P[idx,np.random.permutation(idx)] = 1    \n",
    "    return P"
   ]
  }
 ],
 "metadata": {
  "kernelspec": {
   "display_name": "Python 3",
   "language": "python",
   "name": "python3"
  },
  "language_info": {
   "codemirror_mode": {
    "name": "ipython",
    "version": 3
   },
   "file_extension": ".py",
   "mimetype": "text/x-python",
   "name": "python",
   "nbconvert_exporter": "python",
   "pygments_lexer": "ipython3",
   "version": "3.7.4"
  },
  "varInspector": {
   "cols": {
    "lenName": 16,
    "lenType": 16,
    "lenVar": 40
   },
   "kernels_config": {
    "python": {
     "delete_cmd_postfix": "",
     "delete_cmd_prefix": "del ",
     "library": "var_list.py",
     "varRefreshCmd": "print(var_dic_list())"
    },
    "r": {
     "delete_cmd_postfix": ") ",
     "delete_cmd_prefix": "rm(",
     "library": "var_list.r",
     "varRefreshCmd": "cat(var_dic_list()) "
    }
   },
   "types_to_exclude": [
    "module",
    "function",
    "builtin_function_or_method",
    "instance",
    "_Feature"
   ],
   "window_display": false
  }
 },
 "nbformat": 4,
 "nbformat_minor": 2
}
